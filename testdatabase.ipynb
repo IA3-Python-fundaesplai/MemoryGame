{
 "cells": [
  {
   "cell_type": "code",
   "execution_count": 1,
   "metadata": {},
   "outputs": [],
   "source": [
    "import sqlite3\n",
    "import datetime\n",
    "from database import Database"
   ]
  },
  {
   "cell_type": "code",
   "execution_count": 7,
   "metadata": {},
   "outputs": [],
   "source": [
    "conn = sqlite3.connect(\"scores.db\")\n",
    "cursor = conn.cursor()"
   ]
  },
  {
   "cell_type": "code",
   "execution_count": 3,
   "metadata": {},
   "outputs": [],
   "source": [
    "cursor.execute('''CREATE TABLE IF NOT EXISTS scoreboard (\n",
    "fecha TIMESTAMP PRIMARY KEY,\n",
    "nombre VARCHAR(50),\n",
    "puntuacion INTEGER\n",
    ")''')\n",
    "conn.commit()"
   ]
  },
  {
   "cell_type": "code",
   "execution_count": 9,
   "metadata": {},
   "outputs": [],
   "source": [
    "cursor.execute(\"INSERT INTO scoreboard (fecha, nombre, puntuacion) VALUES (?, ?, ?)\", (datetime.datetime.now(), \"JON\", 35))\n",
    "conn.commit()"
   ]
  },
  {
   "cell_type": "code",
   "execution_count": 10,
   "metadata": {},
   "outputs": [],
   "source": [
    "cursor.execute(\"DELETE FROM scoreboard WHERE nombre = 'Jon'\")\n",
    "conn.commit()"
   ]
  },
  {
   "cell_type": "code",
   "execution_count": 20,
   "metadata": {},
   "outputs": [
    {
     "ename": "ProgrammingError",
     "evalue": "Cannot operate on a closed database.",
     "output_type": "error",
     "traceback": [
      "\u001b[0;31m---------------------------------------------------------------------------\u001b[0m",
      "\u001b[0;31mProgrammingError\u001b[0m                          Traceback (most recent call last)",
      "\u001b[1;32m/Users/jonfdz/Desktop/Python/Bootcamp/MemoryGame/testdatabase.ipynb Cell 6\u001b[0m line \u001b[0;36m3\n\u001b[1;32m      <a href='vscode-notebook-cell:/Users/jonfdz/Desktop/Python/Bootcamp/MemoryGame/testdatabase.ipynb#W4sZmlsZQ%3D%3D?line=0'>1</a>\u001b[0m cursor\u001b[39m.\u001b[39mexecute(\u001b[39m\"\u001b[39m\u001b[39mSELECT * FROM scoreboard\u001b[39m\u001b[39m\"\u001b[39m)\n\u001b[1;32m      <a href='vscode-notebook-cell:/Users/jonfdz/Desktop/Python/Bootcamp/MemoryGame/testdatabase.ipynb#W4sZmlsZQ%3D%3D?line=1'>2</a>\u001b[0m conn\u001b[39m.\u001b[39mclose()\n\u001b[0;32m----> <a href='vscode-notebook-cell:/Users/jonfdz/Desktop/Python/Bootcamp/MemoryGame/testdatabase.ipynb#W4sZmlsZQ%3D%3D?line=2'>3</a>\u001b[0m score \u001b[39m=\u001b[39m cursor\u001b[39m.\u001b[39mfetchall()\n\u001b[1;32m      <a href='vscode-notebook-cell:/Users/jonfdz/Desktop/Python/Bootcamp/MemoryGame/testdatabase.ipynb#W4sZmlsZQ%3D%3D?line=4'>5</a>\u001b[0m score\n",
      "\u001b[0;31mProgrammingError\u001b[0m: Cannot operate on a closed database."
     ]
    }
   ],
   "source": [
    "cursor.execute(\"SELECT * FROM scoreboard\")\n",
    "conn.close()\n",
    "score = cursor.fetchall()\n",
    "\n",
    "score"
   ]
  },
  {
   "cell_type": "code",
   "execution_count": 13,
   "metadata": {},
   "outputs": [],
   "source": [
    "name = 'scoreboard'\n",
    "DB_NAME = \"scores.db\"\n",
    "connection = sqlite3.connect(DB_NAME)\n",
    "cursor = connection.cursor()\n",
    "cursor.execute(f'''CREATE TABLE IF NOT EXISTS {name} (\n",
    "                        fecha TIMESTAMP PRIMARY KEY,\n",
    "                        nombre TEXT,\n",
    "                        puntuacion INTEGER\n",
    "                        )''')\n",
    "connection.commit()\n",
    "connection.close()"
   ]
  },
  {
   "cell_type": "code",
   "execution_count": 11,
   "metadata": {},
   "outputs": [],
   "source": [
    "conn.close()"
   ]
  },
  {
   "cell_type": "code",
   "execution_count": 4,
   "metadata": {},
   "outputs": [
    {
     "name": "stderr",
     "output_type": "stream",
     "text": [
      "ERROR:root:Error en la base de datos: Incorrect number of bindings supplied. The current statement uses 1, and there are 0 supplied.\n"
     ]
    },
    {
     "data": {
      "text/plain": [
       "[]"
      ]
     },
     "execution_count": 4,
     "metadata": {},
     "output_type": "execute_result"
    }
   ],
   "source": [
    "db = Database()\n",
    "scores = db.fetch_query(\"SELECT ? FROM scoreboard\", (\"*\"))\n",
    "scores"
   ]
  },
  {
   "cell_type": "code",
   "execution_count": 2,
   "metadata": {},
   "outputs": [
    {
     "name": "stderr",
     "output_type": "stream",
     "text": [
      "ERROR:root:Error en la base de datos: near \"17\": syntax error\n"
     ]
    },
    {
     "name": "stdout",
     "output_type": "stream",
     "text": [
      "Hola\n"
     ]
    },
    {
     "data": {
      "text/plain": [
       "[('2023-10-16 17:22:22.505337', 'JON', 45),\n",
       " ('2023-10-16 17:22:28.623838', 'JON', 35),\n",
       " ('2023-10-16 17:31:32.045131', 'JON', 25)]"
      ]
     },
     "execution_count": 2,
     "metadata": {},
     "output_type": "execute_result"
    }
   ],
   "source": [
    "date = datetime.datetime.now()\n",
    "user = \"JON\"\n",
    "score = 55\n",
    "\n",
    "db = Database()\n",
    "db.commit_query(\"INSERT INTO scoreboard (fecha, nombre, puntuacion) VALUES (?, ?, ?)\", (datetime.datetime.now(), \"JON\", 35))\n",
    "print(\"Hola\")\n",
    "scores = db.fetch_query(\"SELECT * FROM scoreboard\")\n",
    "scores"
   ]
  }
 ],
 "metadata": {
  "kernelspec": {
   "display_name": "base",
   "language": "python",
   "name": "python3"
  },
  "language_info": {
   "codemirror_mode": {
    "name": "ipython",
    "version": 3
   },
   "file_extension": ".py",
   "mimetype": "text/x-python",
   "name": "python",
   "nbconvert_exporter": "python",
   "pygments_lexer": "ipython3",
   "version": "3.11.4"
  }
 },
 "nbformat": 4,
 "nbformat_minor": 2
}
